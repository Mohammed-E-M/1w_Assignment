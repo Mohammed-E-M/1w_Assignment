{
 "cells": [
  {
   "cell_type": "code",
   "execution_count": 13,
   "id": "a5225cb4",
   "metadata": {},
   "outputs": [
    {
     "name": "stdout",
     "output_type": "stream",
     "text": [
      "Too low, try again!\n",
      "Too low, try again!\n",
      "Invalid input. Please enter a number.\n",
      "Invalid input. Please enter a number.\n",
      "Invalid input. Please enter a number.\n",
      "Invalid input. Please enter a number.\n",
      "Invalid input. Please enter a number.\n",
      "Invalid input. Please enter a number.\n",
      "Invalid input. Please enter a number.\n",
      "Invalid input. Please enter a number.\n",
      "Invalid input. Please enter a number.\n",
      "Invalid input. Please enter a number.\n",
      "Invalid input. Please enter a number.\n",
      "Invalid input. Please enter a number.\n",
      "Invalid input. Please enter a number.\n",
      "Invalid input. Please enter a number.\n",
      "Invalid input. Please enter a number.\n",
      "Invalid input. Please enter a number.\n",
      "Invalid input. Please enter a number.\n",
      "Too low, try again!\n",
      "Too high, try again!\n",
      "Too high, try again!\n",
      "Too high, try again!\n",
      "Too high, try again!\n",
      "Too high, try again!\n",
      "Too high, try again!\n",
      "Too high, try again!\n",
      "Too high, try again!\n",
      "Too high, try again!\n",
      "Too high, try again!\n",
      "Too high, try again!\n",
      "Too low, try again!\n",
      "You guessed it right!\n",
      "The number was 14\n"
     ]
    }
   ],
   "source": [
    "import random\n",
    "\n",
    "\n",
    "input(\"Press Enter to start the game\")\n",
    "number = random.randint(1, 50)\n",
    "\n",
    "\n",
    "while True:\n",
    "    guess_input = input(\"Guess a number between 1 and 50: \")\n",
    "    if not guess_input.isdigit():\n",
    "            print(\"Invalid input. Please enter a number.\")\n",
    "            continue\n",
    "\n",
    "    guess = int(guess_input)\n",
    "    if guess == number:\n",
    "        print(\"You guessed it right!\")\n",
    "        break\n",
    "    elif guess < number:\n",
    "        print(\"Too low, try again!\")\n",
    "    else:\n",
    "        print(\"Too high, try again!\")\n",
    "print(f\"The number was {number}\")\n"
   ]
  }
 ],
 "metadata": {
  "kernelspec": {
   "display_name": "Python 3",
   "language": "python",
   "name": "python3"
  },
  "language_info": {
   "codemirror_mode": {
    "name": "ipython",
    "version": 3
   },
   "file_extension": ".py",
   "mimetype": "text/x-python",
   "name": "python",
   "nbconvert_exporter": "python",
   "pygments_lexer": "ipython3",
   "version": "3.11.9"
  }
 },
 "nbformat": 4,
 "nbformat_minor": 5
}
