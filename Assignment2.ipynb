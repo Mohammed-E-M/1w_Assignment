{
 "cells": [
  {
   "cell_type": "code",
   "execution_count": null,
   "id": "a5225cb4",
   "metadata": {},
   "outputs": [
    {
     "name": "stdout",
     "output_type": "stream",
     "text": [
      "Too low, try again!\n",
      "Too high, try again!\n",
      "You are out of the range \n",
      "Too high, try again!\n",
      "Too high, try again!\n",
      "Too high, try again!\n",
      "Too high, try again!\n",
      "Too high, try again!\n",
      "Too high, try again!\n",
      "Too low, try again!\n",
      "Too low, try again!\n",
      "Too low, try again!\n",
      "Too low, try again!\n",
      "Too low, try again!\n",
      "Too low, try again!\n",
      "Too low, try again!\n",
      "You guessed it right!\n",
      "The number was 7\n"
     ]
    }
   ],
   "source": [
    "import random\n",
    "\n",
    "\n",
    "input(\"Press Enter to start the game\")\n",
    "number = random.randint(1, 50)\n",
    "max_number = 50\n",
    "\n",
    "while True:\n",
    "    guess_input = input(\"Guess a number between 1 and 50: \")\n",
    "    #.isdigit check the charter entered against digit which (while attempting to make a loop using else it would've been inconvenient )\n",
    "    if not guess_input.isdigit():\n",
    "            print(\"Invalid input. Please enter a number.\")\n",
    "            continue\n",
    "#assigning guess_input as integer allows us to check against the generated value , potentially the opposite can ben assigning number as string)\n",
    "    guess = int(guess_input)\n",
    "    if guess == number:\n",
    "        print(\"You guessed it right!\")\n",
    "        break\n",
    "    #asa mentioned in the presentation we wanted code to try cover all basis whilst being clear to the user , I add this part to the loop for more clarity.\n",
    "    elif guess > max_number: \n",
    "        print(\"You are out of the range, please try again\")\n",
    "    elif guess < number:\n",
    "        print(\"Too low, try again!\")\n",
    "    elif guess > number:\n",
    "        print(\"Too high, try again!\")\n",
    "# when trying to do +str to print the number it created some jankiness to the code while using commmas created dependencies.\n",
    "print(f\"The number was {number}\")\n"
   ]
  }
 ],
 "metadata": {
  "kernelspec": {
   "display_name": "Python 3",
   "language": "python",
   "name": "python3"
  },
  "language_info": {
   "codemirror_mode": {
    "name": "ipython",
    "version": 3
   },
   "file_extension": ".py",
   "mimetype": "text/x-python",
   "name": "python",
   "nbconvert_exporter": "python",
   "pygments_lexer": "ipython3",
   "version": "3.11.9"
  }
 },
 "nbformat": 4,
 "nbformat_minor": 5
}
