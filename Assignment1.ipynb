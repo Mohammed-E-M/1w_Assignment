{
 "cells": [
  {
   "cell_type": "code",
   "execution_count": 3,
   "id": "5d1122b8",
   "metadata": {},
   "outputs": [
    {
     "name": "stdout",
     "output_type": "stream",
     "text": [
      "Welcome to guess the number!\n",
      "This is a 100-sided die.\n",
      "Oops! The correct number was 20.\n",
      "Please enter a valid number.\n",
      "Oops! The correct number was 23.\n",
      "Thanks for playing!\n"
     ]
    }
   ],
   "source": [
    "import random\n",
    "\n",
    "# Set min and max values for the dice\n",
    "min_value = 1\n",
    "max_value = 100\n",
    "\n",
    "print(\"Welcome to guess the number!\")\n",
    "print(f\"This is a {max_value}-sided die.\")\n",
    "\n",
    "while True:\n",
    "    # Roll the dice\n",
    "    roll = random.randint(min_value, max_value)\n",
    "    \n",
    "    # Ask the user to guess\n",
    "    guess_input = input(f\"Guess the number on the dice ({min_value}-{max_value}): \")\n",
    "    \n",
    "    # Make sure input is a number\n",
    "    if not guess_input.isdigit():\n",
    "        print(\"Please enter a valid number.\")\n",
    "        continue\n",
    "\n",
    "    guess = int(guess_input)\n",
    "\n",
    "    # Check if guess is in valid range\n",
    "    if guess < min_value or guess > max_value:\n",
    "        print(f\"Please enter a number between {min_value} and {max_value}.\")\n",
    "        continue\n",
    "\n",
    "    # Compare guess to actual roll\n",
    "    if guess == roll:\n",
    "        print(\"Congrats, you got it correct!\")\n",
    "    else:\n",
    "        print(f\"Oops! The correct number was {roll}.\")\n",
    "\n",
    "    # Ask if the user wants to roll again\n",
    "    roll_again = input(\"Would you like to play again? (yes/no): \").strip().lower()\n",
    "    if roll_again not in (\"yes\", \"y\"):\n",
    "        print(\"Thanks for playing!\")\n",
    "        break\n"
   ]
  }
 ],
 "metadata": {
  "kernelspec": {
   "display_name": "Python 3",
   "language": "python",
   "name": "python3"
  },
  "language_info": {
   "codemirror_mode": {
    "name": "ipython",
    "version": 3
   },
   "file_extension": ".py",
   "mimetype": "text/x-python",
   "name": "python",
   "nbconvert_exporter": "python",
   "pygments_lexer": "ipython3",
   "version": "3.11.9"
  }
 },
 "nbformat": 4,
 "nbformat_minor": 5
}
